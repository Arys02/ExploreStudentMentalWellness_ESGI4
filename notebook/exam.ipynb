{
 "cells": [
  {
   "cell_type": "code",
   "execution_count": 34,
   "id": "initial_id",
   "metadata": {
    "collapsed": true,
    "ExecuteTime": {
     "end_time": "2024-06-19T13:24:37.411140Z",
     "start_time": "2024-06-19T13:24:37.393508Z"
    }
   },
   "outputs": [],
   "source": [
    "import re\n",
    "\n",
    "import numpy as np\n",
    "import pandas as pd\n",
    "from matplotlib import pyplot as plt\n",
    "\n",
    "data = pd.read_csv('food_coded.csv')"
   ]
  },
  {
   "cell_type": "code",
   "outputs": [
    {
     "name": "stdout",
     "output_type": "stream",
     "text": [
      "61col  x 125 row\n"
     ]
    }
   ],
   "source": [
    "print(f'{data.shape[1]}col  x {data.shape[0]} row')"
   ],
   "metadata": {
    "collapsed": false,
    "ExecuteTime": {
     "end_time": "2024-06-19T12:39:02.318983Z",
     "start_time": "2024-06-19T12:39:02.312434Z"
    }
   },
   "id": "fa73bc0470b2d245",
   "execution_count": 7
  },
  {
   "cell_type": "code",
   "outputs": [
    {
     "data": {
      "text/plain": "       GPA  Gender  breakfast  calories_chicken  calories_day  calories_scone  \\\n0      2.4       2          1               430           NaN           315.0   \n1    3.654       1          1               610           3.0           420.0   \n2      3.3       1          1               720           4.0           420.0   \n3      3.2       1          1               430           3.0           420.0   \n4      3.5       1          1               720           2.0           420.0   \n..     ...     ...        ...               ...           ...             ...   \n120    3.5       1          1               610           4.0           420.0   \n121      3       1          1               265           2.0           315.0   \n122  3.882       1          1               720           NaN           420.0   \n123      3       2          1               720           4.0           420.0   \n124    3.9       1          1               430           NaN           315.0   \n\n     coffee                             comfort_food  \\\n0         1                                     none   \n1         2              chocolate, chips, ice cream   \n2         2          frozen yogurt, pizza, fast food   \n3         2         Pizza, Mac and cheese, ice cream   \n4         2             Ice cream, chocolate, chips    \n..      ...                                      ...   \n120       2  wine. mac and cheese, pizza, ice cream    \n121       2               Pizza / Wings / Cheesecake   \n122       1               rice, potato, seaweed soup   \n123       1             Mac n Cheese, Lasagna, Pizza   \n124       2             Chocolates, pizza, and Ritz.   \n\n                              comfort_food_reasons  \\\n0                            we dont have comfort    \n1                             Stress, bored, anger   \n2                                  stress, sadness   \n3                                          Boredom   \n4                       Stress, boredom, cravings    \n..                                             ...   \n120                           boredom and sadness    \n121                Loneliness / Homesick / Sadness   \n122                                        sadness   \n123  happiness, they are some of my favorite foods   \n124               hormones, Premenstrual syndrome.   \n\n     comfort_food_reasons_coded  ...  soup  sports  thai_food  \\\n0                           9.0  ...   1.0     1.0          1   \n1                           1.0  ...   1.0     1.0          2   \n2                           1.0  ...   1.0     2.0          5   \n3                           2.0  ...   1.0     2.0          5   \n4                           1.0  ...   1.0     1.0          4   \n..                          ...  ...   ...     ...        ...   \n120                         NaN  ...   1.0     1.0          5   \n121                         NaN  ...   1.0     NaN          4   \n122                         NaN  ...   1.0     2.0          5   \n123                         NaN  ...   2.0     2.0          1   \n124                         NaN  ...   1.0     2.0          2   \n\n    tortilla_calories  turkey_calories  type_sports veggies_day  vitamins  \\\n0              1165.0              345   car racing           5         1   \n1               725.0              690  Basketball            4         2   \n2              1165.0              500         none           5         1   \n3               725.0              690          NaN           3         1   \n4               940.0              500     Softball           4         2   \n..                ...              ...          ...         ...       ...   \n120             940.0              500     Softball           5         1   \n121             940.0              500  basketball            5         2   \n122             580.0              690         none           4         2   \n123             940.0              500          NaN           3         1   \n124             725.0              345          NaN           4         2   \n\n     waffle_calories                    weight  \n0               1315                       187  \n1                900                       155  \n2                900  I'm not answering this.   \n3               1315             Not sure, 240  \n4                760                       190  \n..               ...                       ...  \n120             1315                       156  \n121             1315                       180  \n122             1315                       120  \n123             1315                       135  \n124              575                       135  \n\n[125 rows x 61 columns]",
      "text/html": "<div>\n<style scoped>\n    .dataframe tbody tr th:only-of-type {\n        vertical-align: middle;\n    }\n\n    .dataframe tbody tr th {\n        vertical-align: top;\n    }\n\n    .dataframe thead th {\n        text-align: right;\n    }\n</style>\n<table border=\"1\" class=\"dataframe\">\n  <thead>\n    <tr style=\"text-align: right;\">\n      <th></th>\n      <th>GPA</th>\n      <th>Gender</th>\n      <th>breakfast</th>\n      <th>calories_chicken</th>\n      <th>calories_day</th>\n      <th>calories_scone</th>\n      <th>coffee</th>\n      <th>comfort_food</th>\n      <th>comfort_food_reasons</th>\n      <th>comfort_food_reasons_coded</th>\n      <th>...</th>\n      <th>soup</th>\n      <th>sports</th>\n      <th>thai_food</th>\n      <th>tortilla_calories</th>\n      <th>turkey_calories</th>\n      <th>type_sports</th>\n      <th>veggies_day</th>\n      <th>vitamins</th>\n      <th>waffle_calories</th>\n      <th>weight</th>\n    </tr>\n  </thead>\n  <tbody>\n    <tr>\n      <th>0</th>\n      <td>2.4</td>\n      <td>2</td>\n      <td>1</td>\n      <td>430</td>\n      <td>NaN</td>\n      <td>315.0</td>\n      <td>1</td>\n      <td>none</td>\n      <td>we dont have comfort</td>\n      <td>9.0</td>\n      <td>...</td>\n      <td>1.0</td>\n      <td>1.0</td>\n      <td>1</td>\n      <td>1165.0</td>\n      <td>345</td>\n      <td>car racing</td>\n      <td>5</td>\n      <td>1</td>\n      <td>1315</td>\n      <td>187</td>\n    </tr>\n    <tr>\n      <th>1</th>\n      <td>3.654</td>\n      <td>1</td>\n      <td>1</td>\n      <td>610</td>\n      <td>3.0</td>\n      <td>420.0</td>\n      <td>2</td>\n      <td>chocolate, chips, ice cream</td>\n      <td>Stress, bored, anger</td>\n      <td>1.0</td>\n      <td>...</td>\n      <td>1.0</td>\n      <td>1.0</td>\n      <td>2</td>\n      <td>725.0</td>\n      <td>690</td>\n      <td>Basketball</td>\n      <td>4</td>\n      <td>2</td>\n      <td>900</td>\n      <td>155</td>\n    </tr>\n    <tr>\n      <th>2</th>\n      <td>3.3</td>\n      <td>1</td>\n      <td>1</td>\n      <td>720</td>\n      <td>4.0</td>\n      <td>420.0</td>\n      <td>2</td>\n      <td>frozen yogurt, pizza, fast food</td>\n      <td>stress, sadness</td>\n      <td>1.0</td>\n      <td>...</td>\n      <td>1.0</td>\n      <td>2.0</td>\n      <td>5</td>\n      <td>1165.0</td>\n      <td>500</td>\n      <td>none</td>\n      <td>5</td>\n      <td>1</td>\n      <td>900</td>\n      <td>I'm not answering this.</td>\n    </tr>\n    <tr>\n      <th>3</th>\n      <td>3.2</td>\n      <td>1</td>\n      <td>1</td>\n      <td>430</td>\n      <td>3.0</td>\n      <td>420.0</td>\n      <td>2</td>\n      <td>Pizza, Mac and cheese, ice cream</td>\n      <td>Boredom</td>\n      <td>2.0</td>\n      <td>...</td>\n      <td>1.0</td>\n      <td>2.0</td>\n      <td>5</td>\n      <td>725.0</td>\n      <td>690</td>\n      <td>NaN</td>\n      <td>3</td>\n      <td>1</td>\n      <td>1315</td>\n      <td>Not sure, 240</td>\n    </tr>\n    <tr>\n      <th>4</th>\n      <td>3.5</td>\n      <td>1</td>\n      <td>1</td>\n      <td>720</td>\n      <td>2.0</td>\n      <td>420.0</td>\n      <td>2</td>\n      <td>Ice cream, chocolate, chips</td>\n      <td>Stress, boredom, cravings</td>\n      <td>1.0</td>\n      <td>...</td>\n      <td>1.0</td>\n      <td>1.0</td>\n      <td>4</td>\n      <td>940.0</td>\n      <td>500</td>\n      <td>Softball</td>\n      <td>4</td>\n      <td>2</td>\n      <td>760</td>\n      <td>190</td>\n    </tr>\n    <tr>\n      <th>...</th>\n      <td>...</td>\n      <td>...</td>\n      <td>...</td>\n      <td>...</td>\n      <td>...</td>\n      <td>...</td>\n      <td>...</td>\n      <td>...</td>\n      <td>...</td>\n      <td>...</td>\n      <td>...</td>\n      <td>...</td>\n      <td>...</td>\n      <td>...</td>\n      <td>...</td>\n      <td>...</td>\n      <td>...</td>\n      <td>...</td>\n      <td>...</td>\n      <td>...</td>\n      <td>...</td>\n    </tr>\n    <tr>\n      <th>120</th>\n      <td>3.5</td>\n      <td>1</td>\n      <td>1</td>\n      <td>610</td>\n      <td>4.0</td>\n      <td>420.0</td>\n      <td>2</td>\n      <td>wine. mac and cheese, pizza, ice cream</td>\n      <td>boredom and sadness</td>\n      <td>NaN</td>\n      <td>...</td>\n      <td>1.0</td>\n      <td>1.0</td>\n      <td>5</td>\n      <td>940.0</td>\n      <td>500</td>\n      <td>Softball</td>\n      <td>5</td>\n      <td>1</td>\n      <td>1315</td>\n      <td>156</td>\n    </tr>\n    <tr>\n      <th>121</th>\n      <td>3</td>\n      <td>1</td>\n      <td>1</td>\n      <td>265</td>\n      <td>2.0</td>\n      <td>315.0</td>\n      <td>2</td>\n      <td>Pizza / Wings / Cheesecake</td>\n      <td>Loneliness / Homesick / Sadness</td>\n      <td>NaN</td>\n      <td>...</td>\n      <td>1.0</td>\n      <td>NaN</td>\n      <td>4</td>\n      <td>940.0</td>\n      <td>500</td>\n      <td>basketball</td>\n      <td>5</td>\n      <td>2</td>\n      <td>1315</td>\n      <td>180</td>\n    </tr>\n    <tr>\n      <th>122</th>\n      <td>3.882</td>\n      <td>1</td>\n      <td>1</td>\n      <td>720</td>\n      <td>NaN</td>\n      <td>420.0</td>\n      <td>1</td>\n      <td>rice, potato, seaweed soup</td>\n      <td>sadness</td>\n      <td>NaN</td>\n      <td>...</td>\n      <td>1.0</td>\n      <td>2.0</td>\n      <td>5</td>\n      <td>580.0</td>\n      <td>690</td>\n      <td>none</td>\n      <td>4</td>\n      <td>2</td>\n      <td>1315</td>\n      <td>120</td>\n    </tr>\n    <tr>\n      <th>123</th>\n      <td>3</td>\n      <td>2</td>\n      <td>1</td>\n      <td>720</td>\n      <td>4.0</td>\n      <td>420.0</td>\n      <td>1</td>\n      <td>Mac n Cheese, Lasagna, Pizza</td>\n      <td>happiness, they are some of my favorite foods</td>\n      <td>NaN</td>\n      <td>...</td>\n      <td>2.0</td>\n      <td>2.0</td>\n      <td>1</td>\n      <td>940.0</td>\n      <td>500</td>\n      <td>NaN</td>\n      <td>3</td>\n      <td>1</td>\n      <td>1315</td>\n      <td>135</td>\n    </tr>\n    <tr>\n      <th>124</th>\n      <td>3.9</td>\n      <td>1</td>\n      <td>1</td>\n      <td>430</td>\n      <td>NaN</td>\n      <td>315.0</td>\n      <td>2</td>\n      <td>Chocolates, pizza, and Ritz.</td>\n      <td>hormones, Premenstrual syndrome.</td>\n      <td>NaN</td>\n      <td>...</td>\n      <td>1.0</td>\n      <td>2.0</td>\n      <td>2</td>\n      <td>725.0</td>\n      <td>345</td>\n      <td>NaN</td>\n      <td>4</td>\n      <td>2</td>\n      <td>575</td>\n      <td>135</td>\n    </tr>\n  </tbody>\n</table>\n<p>125 rows × 61 columns</p>\n</div>"
     },
     "execution_count": 8,
     "metadata": {},
     "output_type": "execute_result"
    }
   ],
   "source": [
    "data"
   ],
   "metadata": {
    "collapsed": false,
    "ExecuteTime": {
     "end_time": "2024-06-19T12:39:02.994457Z",
     "start_time": "2024-06-19T12:39:02.948890Z"
    }
   },
   "id": "c5c3e9e9cf5b1700",
   "execution_count": 8
  },
  {
   "cell_type": "code",
   "outputs": [],
   "source": [
    "def clean_numerical_column(col):\n",
    "    col = col.replace('Unknown', np.nan)\n",
    "    col = col.replace('nan', np.nan)\n",
    "    col = col.replace('Personal', np.nan)\n",
    "    col = col.replace(r'[^0-9.+-]', '', regex=True)\n",
    "    \n",
    "    col = pd.to_numeric(col, errors='coerce')\n",
    "    \n",
    "    return col"
   ],
   "metadata": {
    "collapsed": false,
    "ExecuteTime": {
     "end_time": "2024-06-19T13:13:01.922277Z",
     "start_time": "2024-06-19T13:13:01.914746Z"
    }
   },
   "id": "661280458d04db5b",
   "execution_count": 24
  },
  {
   "cell_type": "code",
   "outputs": [],
   "source": [
    "correction_dict = {\n",
    "    \n",
    "}"
   ],
   "metadata": {
    "collapsed": false,
    "ExecuteTime": {
     "end_time": "2024-06-19T13:13:02.395920Z",
     "start_time": "2024-06-19T13:13:02.389995Z"
    }
   },
   "id": "40fb3a7eb4d36f68",
   "execution_count": 25
  },
  {
   "cell_type": "code",
   "outputs": [],
   "source": [
    "def clean_categorical_text(text, correction_dict):\n",
    "    text = str(text).lower()\n",
    "    \n",
    "    for a, b in correction_dict.items():\n",
    "        text = re.sub(r'\\b' + re.escape(a) + r'\\b', b, text)\n",
    "    \n",
    "    return text"
   ],
   "metadata": {
    "collapsed": false,
    "ExecuteTime": {
     "end_time": "2024-06-19T13:13:37.407672Z",
     "start_time": "2024-06-19T13:13:37.402038Z"
    }
   },
   "id": "47cd9d714f2f7804",
   "execution_count": 30
  },
  {
   "cell_type": "code",
   "outputs": [],
   "source": [
    "def clean_categorical_text_column(data, col):\n",
    "    data[col] = data[col].apply(lambda x: clean_categorical_text(x, correction_dict))\n",
    "    ## Ça marche mais trop de valeur différente, il faudrai passer plus de temps sur le formattage. \n",
    "    \n",
    "    #data[col] = data[col].apply(lambda x: x.split(', '))\n",
    "\n",
    "    \n",
    "    #all_elements = set(element for sublist in data[col] for element in sublist)\n",
    "    #for element in all_elements:\n",
    "    #    data[element] = data[col].apply(lambda x: 1 if element in x else 0)\n",
    "\n"
   ],
   "metadata": {
    "collapsed": false,
    "ExecuteTime": {
     "end_time": "2024-06-19T13:24:49.680005Z",
     "start_time": "2024-06-19T13:24:49.675401Z"
    }
   },
   "id": "c6ab9c1cf7dc58a2",
   "execution_count": 37
  },
  {
   "cell_type": "code",
   "outputs": [],
   "source": [
    "cleaned_data = data"
   ],
   "metadata": {
    "collapsed": false,
    "ExecuteTime": {
     "end_time": "2024-06-19T13:24:50.062653Z",
     "start_time": "2024-06-19T13:24:50.057305Z"
    }
   },
   "id": "eb76b8f613a750",
   "execution_count": 38
  },
  {
   "cell_type": "code",
   "outputs": [],
   "source": [
    "def plot_numerical_pie(data, col, labels):\n",
    "    data['label'] = data[col].map(labels)\n",
    "    \n",
    "    label_counts = data['label'].value_counts()\n",
    "    \n",
    "    plt.figure(figsize=(8, 8))\n",
    "    plt.pie(label_counts, labels=label_counts.index, autopct='%1.1f%%', startangle=140)\n",
    "    plt.title(f'{col}')\n",
    "    plt.show()"
   ],
   "metadata": {
    "collapsed": false,
    "ExecuteTime": {
     "end_time": "2024-06-19T13:24:50.416927Z",
     "start_time": "2024-06-19T13:24:50.410762Z"
    }
   },
   "id": "ab379121f71c8bf8",
   "execution_count": 39
  },
  {
   "cell_type": "code",
   "outputs": [],
   "source": [
    "def plot_numerical_histogram(data, col):\n",
    "    #histo = data[col].value_counts()\n",
    "    \n",
    "    plt.figure(figsize=(8, 8))\n",
    "    plt.hist(data[col].dropna(), bins=20)\n",
    "    plt.title(f'{col}')\n",
    "    plt.grid(True)\n",
    "    plt.show()"
   ],
   "metadata": {
    "collapsed": false,
    "ExecuteTime": {
     "end_time": "2024-06-19T13:32:58.047404Z",
     "start_time": "2024-06-19T13:32:58.040245Z"
    }
   },
   "id": "4178e50bef4bdcd1",
   "execution_count": 46
  },
  {
   "cell_type": "code",
   "outputs": [
    {
     "data": {
      "text/plain": "       GPA  Gender  breakfast  calories_chicken  calories_day  calories_scone  \\\n0    2.400       2          1               430           NaN           315.0   \n1    3.654       1          1               610           3.0           420.0   \n2    3.300       1          1               720           4.0           420.0   \n3    3.200       1          1               430           3.0           420.0   \n4    3.500       1          1               720           2.0           420.0   \n..     ...     ...        ...               ...           ...             ...   \n120  3.500       1          1               610           4.0           420.0   \n121  3.000       1          1               265           2.0           315.0   \n122  3.882       1          1               720           NaN           420.0   \n123  3.000       2          1               720           4.0           420.0   \n124  3.900       1          1               430           NaN           315.0   \n\n     coffee comfort_food                           comfort_food_reasons  \\\n0         1         None                          we dont have comfort    \n1         2         None                           stress, bored, anger   \n2         2         None                                stress, sadness   \n3         2         None                                        boredom   \n4         2         None                     stress, boredom, cravings    \n..      ...          ...                                            ...   \n120       2         None                           boredom and sadness    \n121       2         None                loneliness / homesick / sadness   \n122       1         None                                        sadness   \n123       1         None  happiness, they are some of my favorite foods   \n124       2         None               hormones, premenstrual syndrome.   \n\n     comfort_food_reasons_coded  ...  sports  thai_food  tortilla_calories  \\\n0                           9.0  ...     1.0          1             1165.0   \n1                           1.0  ...     1.0          2              725.0   \n2                           1.0  ...     2.0          5             1165.0   \n3                           2.0  ...     2.0          5              725.0   \n4                           1.0  ...     1.0          4              940.0   \n..                          ...  ...     ...        ...                ...   \n120                         NaN  ...     1.0          5              940.0   \n121                         NaN  ...     NaN          4              940.0   \n122                         NaN  ...     2.0          5              580.0   \n123                         NaN  ...     2.0          1              940.0   \n124                         NaN  ...     2.0          2              725.0   \n\n    turkey_calories  type_sports  veggies_day vitamins  waffle_calories  \\\n0               345   car racing            5        1             1315   \n1               690  Basketball             4        2              900   \n2               500         none            5        1              900   \n3               690          NaN            3        1             1315   \n4               500     Softball            4        2              760   \n..              ...          ...          ...      ...              ...   \n120             500     Softball            5        1             1315   \n121             500  basketball             5        2             1315   \n122             690         none            4        2             1315   \n123             500          NaN            3        1             1315   \n124             345          NaN            4        2              575   \n\n                       weight   label  \n0                         187    Male  \n1                         155  Female  \n2    I'm not answering this.   Female  \n3               Not sure, 240  Female  \n4                         190  Female  \n..                        ...     ...  \n120                       156  Female  \n121                       180  Female  \n122                       120  Female  \n123                       135    Male  \n124                       135  Female  \n\n[125 rows x 62 columns]",
      "text/html": "<div>\n<style scoped>\n    .dataframe tbody tr th:only-of-type {\n        vertical-align: middle;\n    }\n\n    .dataframe tbody tr th {\n        vertical-align: top;\n    }\n\n    .dataframe thead th {\n        text-align: right;\n    }\n</style>\n<table border=\"1\" class=\"dataframe\">\n  <thead>\n    <tr style=\"text-align: right;\">\n      <th></th>\n      <th>GPA</th>\n      <th>Gender</th>\n      <th>breakfast</th>\n      <th>calories_chicken</th>\n      <th>calories_day</th>\n      <th>calories_scone</th>\n      <th>coffee</th>\n      <th>comfort_food</th>\n      <th>comfort_food_reasons</th>\n      <th>comfort_food_reasons_coded</th>\n      <th>...</th>\n      <th>sports</th>\n      <th>thai_food</th>\n      <th>tortilla_calories</th>\n      <th>turkey_calories</th>\n      <th>type_sports</th>\n      <th>veggies_day</th>\n      <th>vitamins</th>\n      <th>waffle_calories</th>\n      <th>weight</th>\n      <th>label</th>\n    </tr>\n  </thead>\n  <tbody>\n    <tr>\n      <th>0</th>\n      <td>2.400</td>\n      <td>2</td>\n      <td>1</td>\n      <td>430</td>\n      <td>NaN</td>\n      <td>315.0</td>\n      <td>1</td>\n      <td>None</td>\n      <td>we dont have comfort</td>\n      <td>9.0</td>\n      <td>...</td>\n      <td>1.0</td>\n      <td>1</td>\n      <td>1165.0</td>\n      <td>345</td>\n      <td>car racing</td>\n      <td>5</td>\n      <td>1</td>\n      <td>1315</td>\n      <td>187</td>\n      <td>Male</td>\n    </tr>\n    <tr>\n      <th>1</th>\n      <td>3.654</td>\n      <td>1</td>\n      <td>1</td>\n      <td>610</td>\n      <td>3.0</td>\n      <td>420.0</td>\n      <td>2</td>\n      <td>None</td>\n      <td>stress, bored, anger</td>\n      <td>1.0</td>\n      <td>...</td>\n      <td>1.0</td>\n      <td>2</td>\n      <td>725.0</td>\n      <td>690</td>\n      <td>Basketball</td>\n      <td>4</td>\n      <td>2</td>\n      <td>900</td>\n      <td>155</td>\n      <td>Female</td>\n    </tr>\n    <tr>\n      <th>2</th>\n      <td>3.300</td>\n      <td>1</td>\n      <td>1</td>\n      <td>720</td>\n      <td>4.0</td>\n      <td>420.0</td>\n      <td>2</td>\n      <td>None</td>\n      <td>stress, sadness</td>\n      <td>1.0</td>\n      <td>...</td>\n      <td>2.0</td>\n      <td>5</td>\n      <td>1165.0</td>\n      <td>500</td>\n      <td>none</td>\n      <td>5</td>\n      <td>1</td>\n      <td>900</td>\n      <td>I'm not answering this.</td>\n      <td>Female</td>\n    </tr>\n    <tr>\n      <th>3</th>\n      <td>3.200</td>\n      <td>1</td>\n      <td>1</td>\n      <td>430</td>\n      <td>3.0</td>\n      <td>420.0</td>\n      <td>2</td>\n      <td>None</td>\n      <td>boredom</td>\n      <td>2.0</td>\n      <td>...</td>\n      <td>2.0</td>\n      <td>5</td>\n      <td>725.0</td>\n      <td>690</td>\n      <td>NaN</td>\n      <td>3</td>\n      <td>1</td>\n      <td>1315</td>\n      <td>Not sure, 240</td>\n      <td>Female</td>\n    </tr>\n    <tr>\n      <th>4</th>\n      <td>3.500</td>\n      <td>1</td>\n      <td>1</td>\n      <td>720</td>\n      <td>2.0</td>\n      <td>420.0</td>\n      <td>2</td>\n      <td>None</td>\n      <td>stress, boredom, cravings</td>\n      <td>1.0</td>\n      <td>...</td>\n      <td>1.0</td>\n      <td>4</td>\n      <td>940.0</td>\n      <td>500</td>\n      <td>Softball</td>\n      <td>4</td>\n      <td>2</td>\n      <td>760</td>\n      <td>190</td>\n      <td>Female</td>\n    </tr>\n    <tr>\n      <th>...</th>\n      <td>...</td>\n      <td>...</td>\n      <td>...</td>\n      <td>...</td>\n      <td>...</td>\n      <td>...</td>\n      <td>...</td>\n      <td>...</td>\n      <td>...</td>\n      <td>...</td>\n      <td>...</td>\n      <td>...</td>\n      <td>...</td>\n      <td>...</td>\n      <td>...</td>\n      <td>...</td>\n      <td>...</td>\n      <td>...</td>\n      <td>...</td>\n      <td>...</td>\n      <td>...</td>\n    </tr>\n    <tr>\n      <th>120</th>\n      <td>3.500</td>\n      <td>1</td>\n      <td>1</td>\n      <td>610</td>\n      <td>4.0</td>\n      <td>420.0</td>\n      <td>2</td>\n      <td>None</td>\n      <td>boredom and sadness</td>\n      <td>NaN</td>\n      <td>...</td>\n      <td>1.0</td>\n      <td>5</td>\n      <td>940.0</td>\n      <td>500</td>\n      <td>Softball</td>\n      <td>5</td>\n      <td>1</td>\n      <td>1315</td>\n      <td>156</td>\n      <td>Female</td>\n    </tr>\n    <tr>\n      <th>121</th>\n      <td>3.000</td>\n      <td>1</td>\n      <td>1</td>\n      <td>265</td>\n      <td>2.0</td>\n      <td>315.0</td>\n      <td>2</td>\n      <td>None</td>\n      <td>loneliness / homesick / sadness</td>\n      <td>NaN</td>\n      <td>...</td>\n      <td>NaN</td>\n      <td>4</td>\n      <td>940.0</td>\n      <td>500</td>\n      <td>basketball</td>\n      <td>5</td>\n      <td>2</td>\n      <td>1315</td>\n      <td>180</td>\n      <td>Female</td>\n    </tr>\n    <tr>\n      <th>122</th>\n      <td>3.882</td>\n      <td>1</td>\n      <td>1</td>\n      <td>720</td>\n      <td>NaN</td>\n      <td>420.0</td>\n      <td>1</td>\n      <td>None</td>\n      <td>sadness</td>\n      <td>NaN</td>\n      <td>...</td>\n      <td>2.0</td>\n      <td>5</td>\n      <td>580.0</td>\n      <td>690</td>\n      <td>none</td>\n      <td>4</td>\n      <td>2</td>\n      <td>1315</td>\n      <td>120</td>\n      <td>Female</td>\n    </tr>\n    <tr>\n      <th>123</th>\n      <td>3.000</td>\n      <td>2</td>\n      <td>1</td>\n      <td>720</td>\n      <td>4.0</td>\n      <td>420.0</td>\n      <td>1</td>\n      <td>None</td>\n      <td>happiness, they are some of my favorite foods</td>\n      <td>NaN</td>\n      <td>...</td>\n      <td>2.0</td>\n      <td>1</td>\n      <td>940.0</td>\n      <td>500</td>\n      <td>NaN</td>\n      <td>3</td>\n      <td>1</td>\n      <td>1315</td>\n      <td>135</td>\n      <td>Male</td>\n    </tr>\n    <tr>\n      <th>124</th>\n      <td>3.900</td>\n      <td>1</td>\n      <td>1</td>\n      <td>430</td>\n      <td>NaN</td>\n      <td>315.0</td>\n      <td>2</td>\n      <td>None</td>\n      <td>hormones, premenstrual syndrome.</td>\n      <td>NaN</td>\n      <td>...</td>\n      <td>2.0</td>\n      <td>2</td>\n      <td>725.0</td>\n      <td>345</td>\n      <td>NaN</td>\n      <td>4</td>\n      <td>2</td>\n      <td>575</td>\n      <td>135</td>\n      <td>Female</td>\n    </tr>\n  </tbody>\n</table>\n<p>125 rows × 62 columns</p>\n</div>"
     },
     "execution_count": 47,
     "metadata": {},
     "output_type": "execute_result"
    }
   ],
   "source": [
    "cleaned_data['GPA'] = clean_numerical_column(cleaned_data['GPA'])\n",
    "cleaned_data['Gender'] = clean_numerical_column(cleaned_data['Gender'])\n",
    "cleaned_data['breakfast'] = clean_numerical_column(cleaned_data['breakfast'])\n",
    "cleaned_data['calories_chicken'] = clean_numerical_column(cleaned_data['calories_chicken'])\n",
    "cleaned_data['calories_day'] = clean_numerical_column(cleaned_data['calories_day'])\n",
    "cleaned_data['calories_scone'] = clean_numerical_column(cleaned_data['calories_scone'])\n",
    "cleaned_data['coffee'] = clean_numerical_column(cleaned_data['coffee'])\n",
    "cleaned_data['comfort_food'] = clean_categorical_text_column(cleaned_data, 'comfort_food')\n",
    "clean_categorical_text_column(cleaned_data, 'comfort_food_reasons')\n",
    "\n",
    "cleaned_data"
   ],
   "metadata": {
    "collapsed": false,
    "ExecuteTime": {
     "end_time": "2024-06-19T13:32:58.118383Z",
     "start_time": "2024-06-19T13:32:58.050648Z"
    }
   },
   "id": "cedd580b893278a7",
   "execution_count": 47
  },
  {
   "cell_type": "code",
   "outputs": [],
   "source": [
    "# GPA \n",
    "gender_dict = {\n",
    "    1: 'Female',\n",
    "    2: 'Male'\n",
    "}\n",
    "plot_numerical_pie(cleaned_data, 'Gender', gender_dict)"
   ],
   "metadata": {
    "collapsed": false,
    "ExecuteTime": {
     "end_time": "2024-06-19T13:31:37.288013Z",
     "start_time": "2024-06-19T13:31:33.236179Z"
    }
   },
   "id": "4c7c183b48993067",
   "execution_count": 44
  },
  {
   "cell_type": "code",
   "outputs": [],
   "source": [
    "plot_numerical_histogram(cleaned_data, 'calories_chicken')"
   ],
   "metadata": {
    "collapsed": false,
    "ExecuteTime": {
     "end_time": "2024-06-19T13:33:20.611092Z",
     "start_time": "2024-06-19T13:32:59.905493Z"
    }
   },
   "id": "b8901e4bec044e4d",
   "execution_count": 48
  },
  {
   "cell_type": "code",
   "outputs": [],
   "source": [],
   "metadata": {
    "collapsed": false
   },
   "id": "24c5a21750bf0a83"
  }
 ],
 "metadata": {
  "kernelspec": {
   "display_name": "Python 3",
   "language": "python",
   "name": "python3"
  },
  "language_info": {
   "codemirror_mode": {
    "name": "ipython",
    "version": 2
   },
   "file_extension": ".py",
   "mimetype": "text/x-python",
   "name": "python",
   "nbconvert_exporter": "python",
   "pygments_lexer": "ipython2",
   "version": "2.7.6"
  }
 },
 "nbformat": 4,
 "nbformat_minor": 5
}
