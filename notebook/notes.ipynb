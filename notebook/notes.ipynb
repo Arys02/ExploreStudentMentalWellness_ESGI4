{
 "cells": [
  {
   "cell_type": "code",
   "execution_count": null,
   "id": "initial_id",
   "metadata": {
    "collapsed": true
   },
   "outputs": [],
   "source": [
    "def plot_numerical_histograms(df):\n",
    "    numerical_columns = df.select_dtypes(include=['int', 'float']).columns\n",
    "    num_plots = len(numerical_columns)\n",
    "    num_cols = 3\n",
    "    num_rows = -(-num_plots // num_cols)  # Division plafond pour obtenir le nombre de lignes\n",
    "\n",
    "    fig, axes = plt.subplots(num_rows, num_cols, figsize=(15, 5*num_rows))\n",
    "    axes = axes.flatten()\n",
    "\n",
    "    for i, column in enumerate(numerical_columns):\n",
    "        values = df[column].dropna()  # Éliminer les valeurs manquantes\n",
    "        histo = values.value_counts()\n",
    "\n",
    "        if len(histo) <= 6:\n",
    "            axes[i].pie(histo.values, labels=histo.index, autopct='%1.1f%%')\n",
    "            axes[i].set_title(f'Pie Chart of {column}')\n",
    "        else:\n",
    "            axes[i].hist(values, color='skyblue', bins=20)\n",
    "            axes[i].set_title(f'Histogram of {column}')\n",
    "            axes[i].set_xlabel(column)\n",
    "            axes[i].set_ylabel('Frequency')\n",
    "\n",
    "            skewness = skew(values)\n",
    "            kurt = kurtosis(values)\n",
    "\n",
    "            mean, median = np.mean(values), np.median(values)\n",
    "            try:\n",
    "                mode_value = mode(values)[0][0]\n",
    "            except IndexError:\n",
    "                mode_value = None\n",
    "\n",
    "            print(f'{column}:\\n\\tmean = {mean}\\n\\tmedian = {median}\\n\\tmode = {mode_value}')\n",
    "\n",
    "            axes[i].axvline(mean, color='r', linestyle='--', linewidth=2, label=f'mean={mean:.2f}')\n",
    "            axes[i].axvline(median, color='g', linestyle='-', linewidth=2, label=f'median={median:.2f}')\n",
    "            if mode_value is not None:\n",
    "                axes[i].axvline(mode_value, color='b', linestyle='-.', linewidth=2, label=f'mode={mode_value:.2f}')\n",
    "            axes[i].legend()\n",
    "\n",
    "    # Supprimer les axes inutilisés\n",
    "    for j in range(i + 1, num_rows * num_cols):\n",
    "        fig.delaxes(axes[j])\n",
    "\n",
    "    plt.tight_layout()\n",
    "    plt.show()\n",
    "\n",
    "plot_numerical_histograms(df)"
   ]
  }
 ],
 "metadata": {
  "kernelspec": {
   "display_name": "Python 3",
   "language": "python",
   "name": "python3"
  },
  "language_info": {
   "codemirror_mode": {
    "name": "ipython",
    "version": 2
   },
   "file_extension": ".py",
   "mimetype": "text/x-python",
   "name": "python",
   "nbconvert_exporter": "python",
   "pygments_lexer": "ipython2",
   "version": "2.7.6"
  }
 },
 "nbformat": 4,
 "nbformat_minor": 5
}
