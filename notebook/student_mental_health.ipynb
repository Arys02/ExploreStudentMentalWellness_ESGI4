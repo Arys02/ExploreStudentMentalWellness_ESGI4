{
 "cells": [
  {
   "cell_type": "code",
   "execution_count": 85,
   "id": "initial_id",
   "metadata": {
    "collapsed": true,
    "ExecuteTime": {
     "end_time": "2024-05-21T13:33:38.806257Z",
     "start_time": "2024-05-21T13:33:38.792743Z"
    }
   },
   "outputs": [],
   "source": [
    "from typing import Tuple\n",
    "\n",
    "import pandas as pd\n",
    "import numpy as np\n",
    "from matplotlib import pyplot as plt\n",
    "from pandas import Series\n",
    "\n",
    "data = pd.read_csv(f'../data/student_mental_health.csv')"
   ]
  },
  {
   "cell_type": "code",
   "outputs": [
    {
     "data": {
      "text/plain": "11"
     },
     "execution_count": 86,
     "metadata": {},
     "output_type": "execute_result"
    }
   ],
   "source": [
    "len(data.axes[1])"
   ],
   "metadata": {
    "collapsed": false,
    "ExecuteTime": {
     "end_time": "2024-05-21T13:33:39.376576Z",
     "start_time": "2024-05-21T13:33:39.368147Z"
    }
   },
   "id": "ed2907e717766981",
   "execution_count": 86
  },
  {
   "cell_type": "code",
   "outputs": [],
   "source": [
    "MAX_NOMINAL_VALUES = 100\n",
    "GLOBAL_MISSING = []"
   ],
   "metadata": {
    "collapsed": false,
    "ExecuteTime": {
     "end_time": "2024-05-21T13:33:40.483486Z",
     "start_time": "2024-05-21T13:33:40.479902Z"
    }
   },
   "id": "56cebeea992af6d2",
   "execution_count": 87
  },
  {
   "cell_type": "code",
   "outputs": [],
   "source": [
    "#def read_column(column: Series):\n"
   ],
   "metadata": {
    "collapsed": false,
    "ExecuteTime": {
     "end_time": "2024-05-21T13:33:41.482474Z",
     "start_time": "2024-05-21T13:33:41.476634Z"
    }
   },
   "id": "6ef707692dc3d600",
   "execution_count": 88
  },
  {
   "cell_type": "code",
   "outputs": [],
   "source": [
    "from typing import Any\n",
    "\n",
    "\n",
    "def analyse_column_distribution(column: Series, column_name: str, missing_values: dict) -> tuple[\n",
    "    Series, bool, int, bool]:\n",
    "    missing_value_number = column.isna().sum()\n",
    "\n",
    "    print(f'missing values : \"{missing_value_number}\"')\n",
    "    print(\"next\")\n",
    "    if column_name in missing_values:\n",
    "        line_to_drop = column[column == missing_values[column_name]].index\n",
    "        print(f'{len(line_to_drop)} lines dropped.')\n",
    "        column = column.drop(line_to_drop, inplace=True)\n",
    "\n",
    "    histo: dict = column.value_counts().to_dict()\n",
    "\n",
    "    quanti: bool = False\n",
    "    is_nominal: bool = len(histo) < MAX_NOMINAL_VALUES\n",
    "    if column.dtype == float:\n",
    "        quanti = True\n",
    "\n",
    "    value_count = column.value_counts()\n",
    "\n",
    "    print(f'histogram : {histo}')\n",
    "    print(f'{len(value_count)} unique value')\n",
    "    print(f'column dtype : {column.dtype}')\n",
    "    print(f'is quantitative : {quanti}')\n",
    "    print(f'is nominal: {is_nominal}')\n",
    "    return column, quanti, len(value_count), is_nominal"
   ],
   "metadata": {
    "collapsed": false,
    "ExecuteTime": {
     "end_time": "2024-05-21T13:33:42.171832Z",
     "start_time": "2024-05-21T13:33:42.163842Z"
    }
   },
   "id": "77f187d3138f52ac",
   "execution_count": 89
  },
  {
   "cell_type": "code",
   "outputs": [],
   "source": [
    "#def handle_quantitative(column: Series):\n"
   ],
   "metadata": {
    "collapsed": false,
    "ExecuteTime": {
     "end_time": "2024-05-21T13:33:49.423226Z",
     "start_time": "2024-05-21T13:33:49.419525Z"
    }
   },
   "id": "216f7ec598b3d7ab",
   "execution_count": 91
  },
  {
   "cell_type": "code",
   "outputs": [
    {
     "name": "stdout",
     "output_type": "stream",
     "text": [
      "missing values : \"1\"\n",
      "next\n",
      "histogram : {18.0: 32, 24.0: 23, 19.0: 21, 23.0: 13, 20.0: 6, 21.0: 3, 22.0: 2}\n",
      "7 unique value\n",
      "column dtype : float64\n",
      "is quantitative : True\n",
      "is nominal: True\n"
     ]
    },
    {
     "data": {
      "text/plain": "(0      18.0\n 1      21.0\n 2      19.0\n 3      22.0\n 4      23.0\n        ... \n 96     21.0\n 97     18.0\n 98     19.0\n 99     23.0\n 100    20.0\n Name: Age, Length: 101, dtype: float64,\n True,\n 7,\n True)"
     },
     "execution_count": 92,
     "metadata": {},
     "output_type": "execute_result"
    }
   ],
   "source": [
    "analyse_column_distribution(data.iloc[:, 2], column_name=\"Age\", missing_values={})"
   ],
   "metadata": {
    "collapsed": false,
    "ExecuteTime": {
     "end_time": "2024-05-21T13:33:52.035189Z",
     "start_time": "2024-05-21T13:33:52.024672Z"
    }
   },
   "id": "72b0ea881bbc421b",
   "execution_count": 92
  },
  {
   "cell_type": "code",
   "outputs": [
    {
     "name": "stdout",
     "output_type": "stream",
     "text": [
      "missing values : \"0\"\n",
      "next\n",
      "histogram : {'8/7/2020 12:39': 3, '8/7/2020 16:34': 2, '8/7/2020 14:43': 2, '8/7/2020 13:13': 2, '8/7/2020 14:57': 2, '8/7/2020 12:43': 2, '8/7/2020 15:14': 2, '8/7/2020 14:29': 2, '8/7/2020 18:11': 1, '8/7/2020 18:10': 1, '9/7/2020 18:24': 1, '9/7/2020 13:15': 1, '8/7/2020 16:53': 1, '9/7/2020 11:57': 1, '9/7/2020 11:43': 1, '9/7/2020 6:57': 1, '8/7/2020 17:05': 1, '8/7/2020 17:37': 1, '8/7/2020 22:35': 1, '8/7/2020 21:21': 1, '8/7/2020 20:36': 1, '13/07/2020 10:07:32': 1, '8/7/2020 17:46': 1, '8/7/2020 19:05': 1, '8/7/2020 17:50': 1, '8/7/2020 19:32': 1, '8/7/2020 12:02': 1, '13/07/2020 10:10:30': 1, '8/7/2020 16:22': 1, '13/07/2020 21:23:57': 1, '13/07/2020 21:22:56': 1, '13/07/2020 21:21:42': 1, '13/07/2020 19:56:49': 1, '13/07/2020 19:08:32': 1, '13/07/2020 17:30:44': 1, '13/07/2020 16:15:13': 1, '13/07/2020 14:48:05': 1, '13/07/2020 14:38:12': 1, '13/07/2020 13:57:11': 1, '13/07/2020 11:54:58': 1, '13/07/2020 11:49:02': 1, '13/07/2020 11:46:13': 1, '13/07/2020 10:34:08': 1, '13/07/2020 10:33:47': 1, '13/07/2020 10:14:46': 1, '13/07/2020 10:12:28': 1, '13/07/2020 10:12:26': 1, '13/07/2020 10:12:18': 1, '13/07/2020 10:11:26': 1, '8/7/2020 15:57': 1, '8/7/2020 16:21': 1, '8/7/2020 12:46': 1, '8/7/2020 13:35': 1, '8/7/2020 13:29': 1, '8/7/2020 13:17': 1, '8/7/2020 13:15': 1, '8/7/2020 13:12': 1, '8/7/2020 13:07': 1, '8/7/2020 13:05': 1, '8/7/2020 12:52': 1, '8/7/2020 12:41': 1, '8/7/2020 16:08': 1, '8/7/2020 12:40': 1, '8/7/2020 12:35': 1, '8/7/2020 12:33': 1, '8/7/2020 12:32': 1, '8/7/2020 12:31': 1, '8/7/2020 12:13': 1, '8/7/2020 12:06': 1, '8/7/2020 12:05': 1, '8/7/2020 13:41': 1, '8/7/2020 13:58': 1, '8/7/2020 14:05': 1, '8/7/2020 14:27': 1, '8/7/2020 15:58': 1, '8/7/2020 12:04': 1, '8/7/2020 15:48': 1, '8/7/2020 15:47': 1, '8/7/2020 15:37': 1, '8/7/2020 15:27': 1, '8/7/2020 15:18': 1, '8/7/2020 15:12': 1, '8/7/2020 15:09': 1, '8/7/2020 15:08': 1, '8/7/2020 15:07': 1, '8/7/2020 14:58': 1, '8/7/2020 14:56': 1, '8/7/2020 14:47': 1, '8/7/2020 14:45': 1, '8/7/2020 14:41': 1, '8/7/2020 14:31': 1, '18/07/2020 20:16:21': 1}\n",
      "92 unique value\n",
      "column dtype : object\n",
      "is quantitative : False\n",
      "is nominal: True\n",
      "missing values : \"0\"\n",
      "next\n",
      "histogram : {'Female': 75, 'Male': 26}\n",
      "2 unique value\n",
      "column dtype : object\n",
      "is quantitative : False\n",
      "is nominal: True\n",
      "missing values : \"1\"\n",
      "next\n",
      "histogram : {18.0: 32, 24.0: 23, 19.0: 21, 23.0: 13, 20.0: 6, 21.0: 3, 22.0: 2}\n",
      "7 unique value\n",
      "column dtype : float64\n",
      "is quantitative : True\n",
      "is nominal: True\n",
      "missing values : \"0\"\n",
      "next\n",
      "histogram : {'BCS': 18, 'Engineering': 17, 'BIT': 10, 'Biomedical science': 4, 'KOE': 4, 'BENL': 2, 'Laws': 2, 'psychology': 2, 'Engine': 2, 'Islamic Education': 1, 'Biotechnology': 1, 'engin': 1, 'Econs': 1, 'MHSC': 1, 'Malcom': 1, 'Kop': 1, 'Human Sciences ': 1, 'Communication ': 1, 'Nursing ': 1, 'Diploma Nursing': 1, 'IT': 1, 'Pendidikan Islam ': 1, 'Radiography': 1, 'Fiqh fatwa ': 1, 'DIPLOMA TESL': 1, 'Koe': 1, 'Fiqh': 1, 'CTS': 1, 'koe': 1, 'Benl': 1, 'Kirkhs': 1, 'Mathemathics': 1, 'Pendidikan islam': 1, 'Human Resources': 1, 'Irkhs': 1, 'Psychology': 1, 'KENMS': 1, 'Accounting ': 1, 'ENM': 1, 'Marine science': 1, 'Banking Studies': 1, 'Business Administration': 1, 'Law': 1, 'KIRKHS': 1, 'Usuluddin ': 1, 'TAASL': 1, 'ALA': 1, 'Islamic education': 1, 'Pendidikan Islam': 1}\n",
      "49 unique value\n",
      "column dtype : object\n",
      "is quantitative : False\n",
      "is nominal: True\n",
      "missing values : \"0\"\n",
      "next\n",
      "histogram : {'year 1': 41, 'Year 3': 19, 'Year 2': 16, 'year 2': 10, 'year 4': 8, 'year 3': 5, 'Year 1': 2}\n",
      "7 unique value\n",
      "column dtype : object\n",
      "is quantitative : False\n",
      "is nominal: True\n",
      "missing values : \"0\"\n",
      "next\n",
      "histogram : {'3.50 - 4.00': 47, '3.00 - 3.49': 43, '2.50 - 2.99': 4, '0 - 1.99': 4, '2.00 - 2.49': 2, '3.50 - 4.00 ': 1}\n",
      "6 unique value\n",
      "column dtype : object\n",
      "is quantitative : False\n",
      "is nominal: True\n",
      "missing values : \"0\"\n",
      "next\n",
      "histogram : {'No': 85, 'Yes': 16}\n",
      "2 unique value\n",
      "column dtype : object\n",
      "is quantitative : False\n",
      "is nominal: True\n",
      "missing values : \"0\"\n",
      "next\n",
      "histogram : {'No': 66, 'Yes': 35}\n",
      "2 unique value\n",
      "column dtype : object\n",
      "is quantitative : False\n",
      "is nominal: True\n",
      "missing values : \"0\"\n",
      "next\n",
      "histogram : {'No': 67, 'Yes': 34}\n",
      "2 unique value\n",
      "column dtype : object\n",
      "is quantitative : False\n",
      "is nominal: True\n",
      "missing values : \"0\"\n",
      "next\n",
      "histogram : {'No': 68, 'Yes': 33}\n",
      "2 unique value\n",
      "column dtype : object\n",
      "is quantitative : False\n",
      "is nominal: True\n",
      "missing values : \"0\"\n",
      "next\n",
      "histogram : {'No': 95, 'Yes': 6}\n",
      "2 unique value\n",
      "column dtype : object\n",
      "is quantitative : False\n",
      "is nominal: True\n"
     ]
    }
   ],
   "source": [
    "for column in data.columns.values:\n",
    "    col, quanti, unique_val_count, is_nominal = analyse_column_distribution(data[column], column_name=data[column].name,\n",
    "                                                                            missing_values={})\n"
   ],
   "metadata": {
    "collapsed": false,
    "ExecuteTime": {
     "end_time": "2024-05-21T13:34:09.084548Z",
     "start_time": "2024-05-21T13:34:09.068693Z"
    }
   },
   "id": "8a41100ad077cc16",
   "execution_count": 95
  },
  {
   "cell_type": "code",
   "outputs": [
    {
     "name": "stdout",
     "output_type": "stream",
     "text": [
      "11\n",
      "11 variables x 101 lines\n"
     ]
    },
    {
     "data": {
      "text/plain": "<Figure size 640x480 with 16 Axes>",
      "image/png": "[encoded data removed]"
     },
     "metadata": {},
     "output_type": "display_data"
    }
   ],
   "source": [
    "length = data.axes[1].size\n",
    "print(length)\n",
    "axSize = int(np.ceil(np.sqrt(length)))\n",
    "fig, axes = plt.subplots(axSize, axSize)\n",
    "\n",
    "print(f'{length} variables x {data.shape[0]} lines')\n"
   ],
   "metadata": {
    "collapsed": false,
    "ExecuteTime": {
     "end_time": "2024-05-21T13:45:02.932293Z",
     "start_time": "2024-05-21T13:45:01.268112Z"
    }
   },
   "id": "cb38a3024e2b3768",
   "execution_count": 119
  },
  {
   "cell_type": "code",
   "outputs": [],
   "source": [],
   "metadata": {
    "collapsed": false
   },
   "id": "27b11e24f777c2cd"
  }
 ],
 "metadata": {
  "kernelspec": {
   "display_name": "Python 3",
   "language": "python",
   "name": "python3"
  },
  "language_info": {
   "codemirror_mode": {
    "name": "ipython",
    "version": 2
   },
   "file_extension": ".py",
   "mimetype": "text/x-python",
   "name": "python",
   "nbconvert_exporter": "python",
   "pygments_lexer": "ipython2",
   "version": "2.7.6"
  }
 },
 "nbformat": 4,
 "nbformat_minor": 5
}
