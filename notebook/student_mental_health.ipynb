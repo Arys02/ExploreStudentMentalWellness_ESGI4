{
 "cells": [
  {
   "cell_type": "code",
   "execution_count": 21,
   "id": "initial_id",
   "metadata": {
    "collapsed": true,
    "ExecuteTime": {
     "end_time": "2024-06-19T14:41:36.260321Z",
     "start_time": "2024-06-19T14:41:35.216171Z"
    }
   },
   "outputs": [],
   "source": [
    "from typing import Tuple\n",
    "\n",
    "import pandas as pd\n",
    "import numpy as np\n",
    "from matplotlib import pyplot as plt\n",
    "from pandas import Series\n",
    "from scipy.stats import stats\n",
    "\n",
    "data = pd.read_csv(f'../data/02_Student_Mental_Health_2021-10-10.csv')"
   ]
  },
  {
   "cell_type": "code",
   "outputs": [
    {
     "name": "stdout",
     "output_type": "stream",
     "text": [
      "147col  x 1659 row\n"
     ]
    }
   ],
   "source": [
    "print(f'{data.shape[1]}col  x {data.shape[0]} row')"
   ],
   "metadata": {
    "collapsed": false,
    "ExecuteTime": {
     "end_time": "2024-06-19T14:41:38.581678Z",
     "start_time": "2024-06-19T14:41:38.560113Z"
    }
   },
   "id": "ed2907e717766981",
   "execution_count": 22
  },
  {
   "cell_type": "code",
   "outputs": [
    {
     "data": {
      "text/plain": "             StartDate           EndDate  Duration (in seconds)  Eligibility  \\\n0     2020-09-22 13:57  2020-09-22 14:05                  461.0          1.0   \n1     2020-09-22 14:16  2020-09-22 14:36                 1215.0          1.0   \n2     2020-09-22 14:59  2020-09-22 15:07                  526.0          1.0   \n3     2020-09-22 16:07  2020-09-22 16:15                  516.0          1.0   \n4     2020-09-22 17:15  2020-09-22 18:01                 2751.0          1.0   \n...                ...               ...                    ...          ...   \n1654               NaN               NaN                    NaN          NaN   \n1655               NaN               NaN                    NaN          NaN   \n1656               NaN               NaN                    NaN          NaN   \n1657               NaN               NaN                    NaN          NaN   \n1658               NaN               NaN                    NaN          NaN   \n\n       Age  Ethnicity Ethnicity_text  Sex  Gender  Year_credits  ...  \\\n0     18.0        2.0            NaN  2.0     2.0           1.0  ...   \n1     18.0        1.0            NaN  2.0     2.0           1.0  ...   \n2     18.0        2.0            NaN  2.0     2.0           1.0  ...   \n3     19.0        1.0            NaN  2.0     2.0           1.0  ...   \n4     18.0        1.0            NaN  2.0     2.0           1.0  ...   \n...    ...        ...            ...  ...     ...           ...  ...   \n1654   NaN        NaN            NaN  NaN     NaN           NaN  ...   \n1655   NaN        NaN            NaN  NaN     NaN           NaN  ...   \n1656   NaN        NaN            NaN  NaN     NaN           NaN  ...   \n1657   NaN        NaN            NaN  NaN     NaN           NaN  ...   \n1658   NaN        NaN            NaN  NaN     NaN           NaN  ...   \n\n      Post_PSS_1  Post_PSS_2  Post_PSS_3  Post_PSS_4  Post_PSS_5  Post_PSS_6  \\\n0            4.0         3.0         3.0         1.0         3.0         3.0   \n1            5.0         4.0         3.0         4.0         2.0         2.0   \n2            2.0         3.0         4.0         3.0         4.0         4.0   \n3            4.0         4.0         5.0         4.0         2.0         4.0   \n4            2.0         1.0         5.0         4.0         3.0         3.0   \n...          ...         ...         ...         ...         ...         ...   \n1654         NaN         NaN         NaN         NaN         NaN         NaN   \n1655         NaN         NaN         NaN         NaN         NaN         NaN   \n1656         NaN         NaN         NaN         NaN         NaN         NaN   \n1657         NaN         NaN         NaN         NaN         NaN         NaN   \n1658         NaN         NaN         NaN         NaN         NaN         NaN   \n\n      Post_PSS_7  Post_PSS_8  Post_PSS_9  Post_PSS_10  \n0            2.0         3.0         3.0          3.0  \n1            3.0         4.0         3.0          2.0  \n2            2.0         3.0         4.0          4.0  \n3            3.0         3.0         4.0          3.0  \n4            4.0         3.0         5.0          3.0  \n...          ...         ...         ...          ...  \n1654         NaN         NaN         NaN          NaN  \n1655         NaN         NaN         NaN          NaN  \n1656         NaN         NaN         NaN          NaN  \n1657         NaN         NaN         NaN          NaN  \n1658         NaN         NaN         NaN          NaN  \n\n[1659 rows x 147 columns]",
      "text/html": "<div>\n<style scoped>\n    .dataframe tbody tr th:only-of-type {\n        vertical-align: middle;\n    }\n\n    .dataframe tbody tr th {\n        vertical-align: top;\n    }\n\n    .dataframe thead th {\n        text-align: right;\n    }\n</style>\n<table border=\"1\" class=\"dataframe\">\n  <thead>\n    <tr style=\"text-align: right;\">\n      <th></th>\n      <th>StartDate</th>\n      <th>EndDate</th>\n      <th>Duration (in seconds)</th>\n      <th>Eligibility</th>\n      <th>Age</th>\n      <th>Ethnicity</th>\n      <th>Ethnicity_text</th>\n      <th>Sex</th>\n      <th>Gender</th>\n      <th>Year_credits</th>\n      <th>...</th>\n      <th>Post_PSS_1</th>\n      <th>Post_PSS_2</th>\n      <th>Post_PSS_3</th>\n      <th>Post_PSS_4</th>\n      <th>Post_PSS_5</th>\n      <th>Post_PSS_6</th>\n      <th>Post_PSS_7</th>\n      <th>Post_PSS_8</th>\n      <th>Post_PSS_9</th>\n      <th>Post_PSS_10</th>\n    </tr>\n  </thead>\n  <tbody>\n    <tr>\n      <th>0</th>\n      <td>2020-09-22 13:57</td>\n      <td>2020-09-22 14:05</td>\n      <td>461.0</td>\n      <td>1.0</td>\n      <td>18.0</td>\n      <td>2.0</td>\n      <td>NaN</td>\n      <td>2.0</td>\n      <td>2.0</td>\n      <td>1.0</td>\n      <td>...</td>\n      <td>4.0</td>\n      <td>3.0</td>\n      <td>3.0</td>\n      <td>1.0</td>\n      <td>3.0</td>\n      <td>3.0</td>\n      <td>2.0</td>\n      <td>3.0</td>\n      <td>3.0</td>\n      <td>3.0</td>\n    </tr>\n    <tr>\n      <th>1</th>\n      <td>2020-09-22 14:16</td>\n      <td>2020-09-22 14:36</td>\n      <td>1215.0</td>\n      <td>1.0</td>\n      <td>18.0</td>\n      <td>1.0</td>\n      <td>NaN</td>\n      <td>2.0</td>\n      <td>2.0</td>\n      <td>1.0</td>\n      <td>...</td>\n      <td>5.0</td>\n      <td>4.0</td>\n      <td>3.0</td>\n      <td>4.0</td>\n      <td>2.0</td>\n      <td>2.0</td>\n      <td>3.0</td>\n      <td>4.0</td>\n      <td>3.0</td>\n      <td>2.0</td>\n    </tr>\n    <tr>\n      <th>2</th>\n      <td>2020-09-22 14:59</td>\n      <td>2020-09-22 15:07</td>\n      <td>526.0</td>\n      <td>1.0</td>\n      <td>18.0</td>\n      <td>2.0</td>\n      <td>NaN</td>\n      <td>2.0</td>\n      <td>2.0</td>\n      <td>1.0</td>\n      <td>...</td>\n      <td>2.0</td>\n      <td>3.0</td>\n      <td>4.0</td>\n      <td>3.0</td>\n      <td>4.0</td>\n      <td>4.0</td>\n      <td>2.0</td>\n      <td>3.0</td>\n      <td>4.0</td>\n      <td>4.0</td>\n    </tr>\n    <tr>\n      <th>3</th>\n      <td>2020-09-22 16:07</td>\n      <td>2020-09-22 16:15</td>\n      <td>516.0</td>\n      <td>1.0</td>\n      <td>19.0</td>\n      <td>1.0</td>\n      <td>NaN</td>\n      <td>2.0</td>\n      <td>2.0</td>\n      <td>1.0</td>\n      <td>...</td>\n      <td>4.0</td>\n      <td>4.0</td>\n      <td>5.0</td>\n      <td>4.0</td>\n      <td>2.0</td>\n      <td>4.0</td>\n      <td>3.0</td>\n      <td>3.0</td>\n      <td>4.0</td>\n      <td>3.0</td>\n    </tr>\n    <tr>\n      <th>4</th>\n      <td>2020-09-22 17:15</td>\n      <td>2020-09-22 18:01</td>\n      <td>2751.0</td>\n      <td>1.0</td>\n      <td>18.0</td>\n      <td>1.0</td>\n      <td>NaN</td>\n      <td>2.0</td>\n      <td>2.0</td>\n      <td>1.0</td>\n      <td>...</td>\n      <td>2.0</td>\n      <td>1.0</td>\n      <td>5.0</td>\n      <td>4.0</td>\n      <td>3.0</td>\n      <td>3.0</td>\n      <td>4.0</td>\n      <td>3.0</td>\n      <td>5.0</td>\n      <td>3.0</td>\n    </tr>\n    <tr>\n      <th>...</th>\n      <td>...</td>\n      <td>...</td>\n      <td>...</td>\n      <td>...</td>\n      <td>...</td>\n      <td>...</td>\n      <td>...</td>\n      <td>...</td>\n      <td>...</td>\n      <td>...</td>\n      <td>...</td>\n      <td>...</td>\n      <td>...</td>\n      <td>...</td>\n      <td>...</td>\n      <td>...</td>\n      <td>...</td>\n      <td>...</td>\n      <td>...</td>\n      <td>...</td>\n      <td>...</td>\n    </tr>\n    <tr>\n      <th>1654</th>\n      <td>NaN</td>\n      <td>NaN</td>\n      <td>NaN</td>\n      <td>NaN</td>\n      <td>NaN</td>\n      <td>NaN</td>\n      <td>NaN</td>\n      <td>NaN</td>\n      <td>NaN</td>\n      <td>NaN</td>\n      <td>...</td>\n      <td>NaN</td>\n      <td>NaN</td>\n      <td>NaN</td>\n      <td>NaN</td>\n      <td>NaN</td>\n      <td>NaN</td>\n      <td>NaN</td>\n      <td>NaN</td>\n      <td>NaN</td>\n      <td>NaN</td>\n    </tr>\n    <tr>\n      <th>1655</th>\n      <td>NaN</td>\n      <td>NaN</td>\n      <td>NaN</td>\n      <td>NaN</td>\n      <td>NaN</td>\n      <td>NaN</td>\n      <td>NaN</td>\n      <td>NaN</td>\n      <td>NaN</td>\n      <td>NaN</td>\n      <td>...</td>\n      <td>NaN</td>\n      <td>NaN</td>\n      <td>NaN</td>\n      <td>NaN</td>\n      <td>NaN</td>\n      <td>NaN</td>\n      <td>NaN</td>\n      <td>NaN</td>\n      <td>NaN</td>\n      <td>NaN</td>\n    </tr>\n    <tr>\n      <th>1656</th>\n      <td>NaN</td>\n      <td>NaN</td>\n      <td>NaN</td>\n      <td>NaN</td>\n      <td>NaN</td>\n      <td>NaN</td>\n      <td>NaN</td>\n      <td>NaN</td>\n      <td>NaN</td>\n      <td>NaN</td>\n      <td>...</td>\n      <td>NaN</td>\n      <td>NaN</td>\n      <td>NaN</td>\n      <td>NaN</td>\n      <td>NaN</td>\n      <td>NaN</td>\n      <td>NaN</td>\n      <td>NaN</td>\n      <td>NaN</td>\n      <td>NaN</td>\n    </tr>\n    <tr>\n      <th>1657</th>\n      <td>NaN</td>\n      <td>NaN</td>\n      <td>NaN</td>\n      <td>NaN</td>\n      <td>NaN</td>\n      <td>NaN</td>\n      <td>NaN</td>\n      <td>NaN</td>\n      <td>NaN</td>\n      <td>NaN</td>\n      <td>...</td>\n      <td>NaN</td>\n      <td>NaN</td>\n      <td>NaN</td>\n      <td>NaN</td>\n      <td>NaN</td>\n      <td>NaN</td>\n      <td>NaN</td>\n      <td>NaN</td>\n      <td>NaN</td>\n      <td>NaN</td>\n    </tr>\n    <tr>\n      <th>1658</th>\n      <td>NaN</td>\n      <td>NaN</td>\n      <td>NaN</td>\n      <td>NaN</td>\n      <td>NaN</td>\n      <td>NaN</td>\n      <td>NaN</td>\n      <td>NaN</td>\n      <td>NaN</td>\n      <td>NaN</td>\n      <td>...</td>\n      <td>NaN</td>\n      <td>NaN</td>\n      <td>NaN</td>\n      <td>NaN</td>\n      <td>NaN</td>\n      <td>NaN</td>\n      <td>NaN</td>\n      <td>NaN</td>\n      <td>NaN</td>\n      <td>NaN</td>\n    </tr>\n  </tbody>\n</table>\n<p>1659 rows × 147 columns</p>\n</div>"
     },
     "execution_count": 23,
     "metadata": {},
     "output_type": "execute_result"
    }
   ],
   "source": [
    "data"
   ],
   "metadata": {
    "collapsed": false,
    "ExecuteTime": {
     "end_time": "2024-06-19T14:41:39.778555Z",
     "start_time": "2024-06-19T14:41:39.526007Z"
    }
   },
   "id": "7e5439099715ee4e",
   "execution_count": 23
  },
  {
   "cell_type": "code",
   "outputs": [],
   "source": [
    "MAX_NOMINAL_VALUES = 100\n",
    "GLOBAL_MISSING = []"
   ],
   "metadata": {
    "collapsed": false,
    "ExecuteTime": {
     "end_time": "2024-06-19T11:58:40.045070Z",
     "start_time": "2024-06-19T11:58:40.039739Z"
    }
   },
   "id": "56cebeea992af6d2",
   "execution_count": 5
  },
  {
   "cell_type": "code",
   "outputs": [],
   "source": [
    "#def read_column(column: Series):\n"
   ],
   "metadata": {
    "collapsed": false,
    "ExecuteTime": {
     "end_time": "2024-06-19T11:58:42.086533Z",
     "start_time": "2024-06-19T11:58:42.079293Z"
    }
   },
   "id": "6ef707692dc3d600",
   "execution_count": 6
  },
  {
   "cell_type": "code",
   "outputs": [],
   "source": [
    "from typing import Any\n",
    "\n",
    "\n",
    "def analyse_column_distribution(column: Series, column_name: str, missing_values: dict) -> tuple[\n",
    "    Series, bool, int, bool]:\n",
    "    missing_value_number = column.isna().sum()\n",
    "\n",
    "    print(f'missing values : \"{missing_value_number}\"')\n",
    "    print(\"next\")\n",
    "    if column_name in missing_values:\n",
    "        line_to_drop = column[column == missing_values[column_name]].index\n",
    "        print(f'{len(line_to_drop)} lines dropped.')\n",
    "        column = column.drop(line_to_drop, inplace=True)\n",
    "\n",
    "    histo: dict = column.value_counts().to_dict()\n",
    "    print(type(histo))\n",
    "    quanti: bool = False\n",
    "    is_nominal: bool = len(histo) < MAX_NOMINAL_VALUES\n",
    "    if column.dtype == float:\n",
    "        quanti = True\n",
    "\n",
    "    value_count = column.value_counts()\n",
    "\n",
    "    print(f'histogram : {histo}')\n",
    "    print(f'{len(value_count)} unique value')\n",
    "    print(f'column dtype : {column.dtype}')\n",
    "    print(f'is quantitative : {quanti}')\n",
    "    print(f'is nominal: {is_nominal}')\n",
    "    return column, quanti, len(value_count), is_nominal"
   ],
   "metadata": {
    "collapsed": false,
    "ExecuteTime": {
     "end_time": "2024-06-19T11:58:42.530792Z",
     "start_time": "2024-06-19T11:58:42.511102Z"
    }
   },
   "id": "77f187d3138f52ac",
   "execution_count": 7
  },
  {
   "cell_type": "code",
   "outputs": [
    {
     "name": "stdout",
     "output_type": "stream",
     "text": [
      "0\n"
     ]
    }
   ],
   "source": [
    "a = {}\n",
    "print(str(len(a)))"
   ],
   "metadata": {
    "collapsed": false,
    "ExecuteTime": {
     "end_time": "2024-06-19T11:58:43.652870Z",
     "start_time": "2024-06-19T11:58:43.645615Z"
    }
   },
   "id": "2fbb6716b9d816b5",
   "execution_count": 8
  },
  {
   "cell_type": "code",
   "outputs": [],
   "source": [
    "def check_numerical_df(df):\n",
    "    return df.select_dtypes(include=['int', 'float']).columns.shape[0] == df.columns.shape[0]"
   ],
   "metadata": {
    "collapsed": false,
    "ExecuteTime": {
     "end_time": "2024-06-19T11:58:44.427298Z",
     "start_time": "2024-06-19T11:58:44.421212Z"
    }
   },
   "id": "73f94764053bf6c0",
   "execution_count": 9
  },
  {
   "cell_type": "code",
   "outputs": [
    {
     "data": {
      "text/plain": "1659"
     },
     "execution_count": 10,
     "metadata": {},
     "output_type": "execute_result"
    }
   ],
   "source": [
    "data.shape[0]"
   ],
   "metadata": {
    "collapsed": false,
    "ExecuteTime": {
     "end_time": "2024-06-19T11:58:45.520861Z",
     "start_time": "2024-06-19T11:58:45.508511Z"
    }
   },
   "id": "d6c0ef5a31872362",
   "execution_count": 10
  },
  {
   "cell_type": "code",
   "outputs": [],
   "source": [
    "from statistics import mode\n",
    "\n",
    "\n",
    "def plot_numeric_col(df, n_col):\n",
    "    if not check_numerical_df(df):\n",
    "        raise Exception('error')\n",
    "\n",
    "    num_plots = len(df)\n",
    "    num_cols = 3\n",
    "    num_rows = -(-num_plots // num_cols)\n",
    "\n",
    "    fig, axes = plt.subplots(num_rows, num_cols, figsize=(15, 5))\n",
    "    axes = axes.flatten()\n",
    "\n",
    "    for i, column in enumerate(df.columns):\n",
    "        values = df[column].dropna()\n",
    "        histo = values.values_counts()\n",
    "\n",
    "        if len(histo) <= 10:\n",
    "            axes[i].pie(histo.values, labels=histo.index, autopct='%1.1f%')\n",
    "            axes[i].set_title(f'Pie for {column}')\n",
    "        else:\n",
    "            axes[i].hist(values, color='skyblue', bins=20)\n",
    "            axes[i].set_title(f'Histogram of {column}')\n",
    "            axes[i].set_xlabel(column)\n",
    "            axes[i].set_ylabel('Frequency')\n",
    "\n",
    "            column_serie = df[column]\n",
    "            skew, kurtosis = column_serie.skew(), column_serie.kurtosis()\n",
    "            mean, median = np.mean(values), np.median(values)\n",
    "            \n",
    "            try:\n",
    "                mode_value = mode(values).mode[0]\n",
    "            except:\n",
    "                mode_value = None\n",
    "                \n",
    "            gaussian = abs(skew) < 0.2 and kurtosis > -1\n",
    "            axes[i].axvline(mean, color='r', linestyle='--', linewidth=2, label=f'mean={mean:.2f}')\n",
    "            axes[i].axvline(median, color='g', linestyle='-', linewidth=2, label=f'median={median:.2f}')\n",
    "            if mode_value is not None:\n",
    "                axes[i].axvline(mode_value, color='b', linestyle='-.', linewidth=2, label=f'mode={mode_value:.2f}')\n",
    "            axes[i].legend()\n",
    "            print('\\tskew =', skew, '\\n\\tkurtosis =', kurtosis)\n",
    "        #ax = axes[i]\n",
    "        #print(i)\n",
    "        #histo: dict = df[column].value_counts().to_dict()\n",
    "\n",
    "        #if len(histo) <= 10:\n",
    "        #    ax.pie(histo.values(), labels=histo.keys())\n",
    "        #else:\n",
    "        #    ax.hist(df[column])\n",
    "        #if gaussian:\n",
    "            #mean, median = np.mean(column_serie), np.median(column_serie)\n",
    "            #print('\\tmean =', mean, '\\n\\tmedian =', median)\n",
    "\n",
    "            #axes[i].plot([mean, mean], [0, 20], label=f'mean={mean:.2f}')\n",
    "            #axes[i].plot([median, median], [0, 20], label=f'median={median:.2f}')\n",
    "\n",
    "        #ax.set_title(f\"Graphique {column}\")\n",
    "\n",
    "    for j in range(i + 1, num_rows * num_cols):\n",
    "        fig.delaxes(axes[j])\n",
    "    fig.tight_layout()\n",
    "    plt.show()\n",
    "\n",
    "\n",
    "\n",
    "\n"
   ],
   "metadata": {
    "collapsed": false,
    "ExecuteTime": {
     "end_time": "2024-06-19T12:13:09.958670Z",
     "start_time": "2024-06-19T12:13:09.922750Z"
    }
   },
   "id": "667ca9537afe74b5",
   "execution_count": 18
  },
  {
   "cell_type": "code",
   "outputs": [],
   "source": [
    "\n",
    "def plot_text_col(df):\n",
    "    if check_numerical_df(df):\n",
    "        raise Exception('error')\n",
    "\n",
    "    axSize = int(np.ceil(np.sqrt(df.shape[1])))\n",
    "    fig, axes = plt.subplots(axSize, axSize, figsize=(15, 5))\n",
    "\n",
    "    j = 0\n",
    "    k = 0\n",
    "    for i, column in enumerate(df.columns):\n",
    "        column_serie = df[column]\n",
    "\n",
    "        ax = axes\n",
    "        if axSize > 1:\n",
    "            ax = axes[k, i]\n",
    "            k = (k + 1) % axSize\n",
    "        print(i, j)\n",
    "        histo: dict = df[column].value_counts().to_dict()\n",
    "\n",
    "        if len(histo) <= 10:\n",
    "            ax.pie(histo.values(), labels=histo.keys())\n",
    "\n",
    "        ax.set_title(f\"Graphique {column}\")\n",
    "    fig.tight_layout()\n",
    "    plt.show()\n"
   ],
   "metadata": {
    "collapsed": false,
    "ExecuteTime": {
     "end_time": "2024-06-19T12:13:11.255951Z",
     "start_time": "2024-06-19T12:13:11.247429Z"
    }
   },
   "id": "8c5ef130f11cb179",
   "execution_count": 19
  },
  {
   "cell_type": "code",
   "outputs": [
    {
     "name": "stdout",
     "output_type": "stream",
     "text": [
      "142\n",
      "-------------------\n",
      "5\n"
     ]
    },
    {
     "ename": "AttributeError",
     "evalue": "'Series' object has no attribute 'values_counts'",
     "output_type": "error",
     "traceback": [
      "\u001B[0;31m---------------------------------------------------------------------------\u001B[0m",
      "\u001B[0;31mAttributeError\u001B[0m                            Traceback (most recent call last)",
      "\u001B[0;32m/tmp/ipykernel_73300/2691447781.py\u001B[0m in \u001B[0;36m?\u001B[0;34m()\u001B[0m\n\u001B[1;32m      9\u001B[0m     \u001B[0mplot_numeric_col\u001B[0m\u001B[0;34m(\u001B[0m\u001B[0mnumerical_col\u001B[0m\u001B[0;34m,\u001B[0m \u001B[0;36m2\u001B[0m\u001B[0;34m)\u001B[0m\u001B[0;34m\u001B[0m\u001B[0;34m\u001B[0m\u001B[0m\n\u001B[1;32m     10\u001B[0m     \u001B[0;31m#plot_text_col(text_col)\u001B[0m\u001B[0;34m\u001B[0m\u001B[0;34m\u001B[0m\u001B[0m\n\u001B[1;32m     11\u001B[0m \u001B[0;34m\u001B[0m\u001B[0m\n\u001B[1;32m     12\u001B[0m \u001B[0;34m\u001B[0m\u001B[0m\n\u001B[0;32m---> 13\u001B[0;31m \u001B[0mplot_hist\u001B[0m\u001B[0;34m(\u001B[0m\u001B[0mdata\u001B[0m\u001B[0;34m)\u001B[0m\u001B[0;34m\u001B[0m\u001B[0;34m\u001B[0m\u001B[0m\n\u001B[0m",
      "\u001B[0;32m/tmp/ipykernel_73300/2691447781.py\u001B[0m in \u001B[0;36m?\u001B[0;34m(df)\u001B[0m\n\u001B[1;32m      5\u001B[0m     \u001B[0mprint\u001B[0m\u001B[0;34m(\u001B[0m\u001B[0mnumerical_col\u001B[0m\u001B[0;34m.\u001B[0m\u001B[0mcolumns\u001B[0m\u001B[0;34m.\u001B[0m\u001B[0mshape\u001B[0m\u001B[0;34m[\u001B[0m\u001B[0;36m0\u001B[0m\u001B[0;34m]\u001B[0m\u001B[0;34m)\u001B[0m\u001B[0;34m\u001B[0m\u001B[0;34m\u001B[0m\u001B[0m\n\u001B[1;32m      6\u001B[0m     \u001B[0mprint\u001B[0m\u001B[0;34m(\u001B[0m\u001B[0;34m\"-------------------\"\u001B[0m\u001B[0;34m)\u001B[0m\u001B[0;34m\u001B[0m\u001B[0;34m\u001B[0m\u001B[0m\n\u001B[1;32m      7\u001B[0m     \u001B[0mprint\u001B[0m\u001B[0;34m(\u001B[0m\u001B[0mtext_col\u001B[0m\u001B[0;34m.\u001B[0m\u001B[0mcolumns\u001B[0m\u001B[0;34m.\u001B[0m\u001B[0mshape\u001B[0m\u001B[0;34m[\u001B[0m\u001B[0;36m0\u001B[0m\u001B[0;34m]\u001B[0m\u001B[0;34m)\u001B[0m\u001B[0;34m\u001B[0m\u001B[0;34m\u001B[0m\u001B[0m\n\u001B[1;32m      8\u001B[0m \u001B[0;34m\u001B[0m\u001B[0m\n\u001B[0;32m----> 9\u001B[0;31m     \u001B[0mplot_numeric_col\u001B[0m\u001B[0;34m(\u001B[0m\u001B[0mnumerical_col\u001B[0m\u001B[0;34m,\u001B[0m \u001B[0;36m2\u001B[0m\u001B[0;34m)\u001B[0m\u001B[0;34m\u001B[0m\u001B[0;34m\u001B[0m\u001B[0m\n\u001B[0m\u001B[1;32m     10\u001B[0m     \u001B[0;31m#plot_text_col(text_col)\u001B[0m\u001B[0;34m\u001B[0m\u001B[0;34m\u001B[0m\u001B[0m\n",
      "\u001B[0;32m/tmp/ipykernel_73300/3861174432.py\u001B[0m in \u001B[0;36m?\u001B[0;34m(df, n_col)\u001B[0m\n\u001B[1;32m     13\u001B[0m     \u001B[0maxes\u001B[0m \u001B[0;34m=\u001B[0m \u001B[0maxes\u001B[0m\u001B[0;34m.\u001B[0m\u001B[0mflatten\u001B[0m\u001B[0;34m(\u001B[0m\u001B[0;34m)\u001B[0m\u001B[0;34m\u001B[0m\u001B[0;34m\u001B[0m\u001B[0m\n\u001B[1;32m     14\u001B[0m \u001B[0;34m\u001B[0m\u001B[0m\n\u001B[1;32m     15\u001B[0m     \u001B[0;32mfor\u001B[0m \u001B[0mi\u001B[0m\u001B[0;34m,\u001B[0m \u001B[0mcolumn\u001B[0m \u001B[0;32min\u001B[0m \u001B[0menumerate\u001B[0m\u001B[0;34m(\u001B[0m\u001B[0mdf\u001B[0m\u001B[0;34m.\u001B[0m\u001B[0mcolumns\u001B[0m\u001B[0;34m)\u001B[0m\u001B[0;34m:\u001B[0m\u001B[0;34m\u001B[0m\u001B[0;34m\u001B[0m\u001B[0m\n\u001B[1;32m     16\u001B[0m         \u001B[0mvalues\u001B[0m \u001B[0;34m=\u001B[0m \u001B[0mdf\u001B[0m\u001B[0;34m[\u001B[0m\u001B[0mcolumn\u001B[0m\u001B[0;34m]\u001B[0m\u001B[0;34m.\u001B[0m\u001B[0mdropna\u001B[0m\u001B[0;34m(\u001B[0m\u001B[0;34m)\u001B[0m\u001B[0;34m\u001B[0m\u001B[0;34m\u001B[0m\u001B[0m\n\u001B[0;32m---> 17\u001B[0;31m         \u001B[0mhisto\u001B[0m \u001B[0;34m=\u001B[0m \u001B[0mvalues\u001B[0m\u001B[0;34m.\u001B[0m\u001B[0mvalues_counts\u001B[0m\u001B[0;34m(\u001B[0m\u001B[0;34m)\u001B[0m\u001B[0;34m\u001B[0m\u001B[0;34m\u001B[0m\u001B[0m\n\u001B[0m\u001B[1;32m     18\u001B[0m \u001B[0;34m\u001B[0m\u001B[0m\n\u001B[1;32m     19\u001B[0m         \u001B[0;32mif\u001B[0m \u001B[0mlen\u001B[0m\u001B[0;34m(\u001B[0m\u001B[0mhisto\u001B[0m\u001B[0;34m)\u001B[0m \u001B[0;34m<=\u001B[0m \u001B[0;36m10\u001B[0m\u001B[0;34m:\u001B[0m\u001B[0;34m\u001B[0m\u001B[0;34m\u001B[0m\u001B[0m\n\u001B[1;32m     20\u001B[0m             \u001B[0maxes\u001B[0m\u001B[0;34m[\u001B[0m\u001B[0mi\u001B[0m\u001B[0;34m]\u001B[0m\u001B[0;34m.\u001B[0m\u001B[0mpie\u001B[0m\u001B[0;34m(\u001B[0m\u001B[0mhisto\u001B[0m\u001B[0;34m.\u001B[0m\u001B[0mvalues\u001B[0m\u001B[0;34m,\u001B[0m \u001B[0mlabels\u001B[0m\u001B[0;34m=\u001B[0m\u001B[0mhisto\u001B[0m\u001B[0;34m.\u001B[0m\u001B[0mindex\u001B[0m\u001B[0;34m,\u001B[0m \u001B[0mautopct\u001B[0m\u001B[0;34m=\u001B[0m\u001B[0;34m'%1.1f%'\u001B[0m\u001B[0;34m)\u001B[0m\u001B[0;34m\u001B[0m\u001B[0;34m\u001B[0m\u001B[0m\n",
      "\u001B[0;32m~/miniconda3/envs/dev_ia/lib/python3.10/site-packages/pandas/core/generic.py\u001B[0m in \u001B[0;36m?\u001B[0;34m(self, name)\u001B[0m\n\u001B[1;32m   6295\u001B[0m             \u001B[0;32mand\u001B[0m \u001B[0mname\u001B[0m \u001B[0;32mnot\u001B[0m \u001B[0;32min\u001B[0m \u001B[0mself\u001B[0m\u001B[0;34m.\u001B[0m\u001B[0m_accessors\u001B[0m\u001B[0;34m\u001B[0m\u001B[0;34m\u001B[0m\u001B[0m\n\u001B[1;32m   6296\u001B[0m             \u001B[0;32mand\u001B[0m \u001B[0mself\u001B[0m\u001B[0;34m.\u001B[0m\u001B[0m_info_axis\u001B[0m\u001B[0;34m.\u001B[0m\u001B[0m_can_hold_identifiers_and_holds_name\u001B[0m\u001B[0;34m(\u001B[0m\u001B[0mname\u001B[0m\u001B[0;34m)\u001B[0m\u001B[0;34m\u001B[0m\u001B[0;34m\u001B[0m\u001B[0m\n\u001B[1;32m   6297\u001B[0m         ):\n\u001B[1;32m   6298\u001B[0m             \u001B[0;32mreturn\u001B[0m \u001B[0mself\u001B[0m\u001B[0;34m[\u001B[0m\u001B[0mname\u001B[0m\u001B[0;34m]\u001B[0m\u001B[0;34m\u001B[0m\u001B[0;34m\u001B[0m\u001B[0m\n\u001B[0;32m-> 6299\u001B[0;31m         \u001B[0;32mreturn\u001B[0m \u001B[0mobject\u001B[0m\u001B[0;34m.\u001B[0m\u001B[0m__getattribute__\u001B[0m\u001B[0;34m(\u001B[0m\u001B[0mself\u001B[0m\u001B[0;34m,\u001B[0m \u001B[0mname\u001B[0m\u001B[0;34m)\u001B[0m\u001B[0;34m\u001B[0m\u001B[0;34m\u001B[0m\u001B[0m\n\u001B[0m",
      "\u001B[0;31mAttributeError\u001B[0m: 'Series' object has no attribute 'values_counts'"
     ]
    },
    {
     "data": {
      "text/plain": "<Figure size 1500x500 with 1659 Axes>",
      "image/png": "[encoded data removed]"
     },
     "metadata": {},
     "output_type": "display_data"
    }
   ],
   "source": [
    "def plot_hist(df):\n",
    "    numerical_col = df.select_dtypes(include=['int', 'float'])\n",
    "    text_col = df.select_dtypes(include=['object'])\n",
    "\n",
    "    print(numerical_col.columns.shape[0])\n",
    "    print(\"-------------------\")\n",
    "    print(text_col.columns.shape[0])\n",
    "\n",
    "    plot_numeric_col(numerical_col, 2)\n",
    "    #plot_text_col(text_col)\n",
    "\n",
    "\n",
    "plot_hist(data)"
   ],
   "metadata": {
    "collapsed": false,
    "ExecuteTime": {
     "end_time": "2024-06-19T12:16:48.594980Z",
     "start_time": "2024-06-19T12:13:12.974624Z"
    }
   },
   "id": "216f7ec598b3d7ab",
   "execution_count": 20
  },
  {
   "cell_type": "markdown",
   "source": [],
   "metadata": {
    "collapsed": false
   },
   "id": "8a32dcd73f72fdeb"
  },
  {
   "cell_type": "code",
   "outputs": [],
   "source": [
    "analyse_column_distribution(data.iloc[:, 2], column_name=\"Age\", missing_values={})"
   ],
   "metadata": {
    "collapsed": false,
    "ExecuteTime": {
     "start_time": "2024-06-19T12:01:00.048103Z"
    }
   },
   "id": "72b0ea881bbc421b",
   "execution_count": null
  },
  {
   "cell_type": "code",
   "outputs": [],
   "source": [
    "for column in data.columns.values:\n",
    "    col, quanti, unique_val_count, is_nominal = analyse_column_distribution(data[column], column_name=data[column].name,\n",
    "                                                                            missing_values={})\n"
   ],
   "metadata": {
    "collapsed": false
   },
   "id": "8a41100ad077cc16",
   "execution_count": null
  },
  {
   "cell_type": "code",
   "outputs": [
    {
     "name": "stdout",
     "output_type": "stream",
     "text": [
      "11\n",
      "11 variables x 101 lines\n"
     ]
    },
    {
     "data": {
      "text/plain": "<Figure size 640x480 with 16 Axes>",
      "image/png": "[encoded data removed]"
     },
     "metadata": {},
     "output_type": "display_data"
    }
   ],
   "source": [
    "length = data.axes[1].size\n",
    "print(length)\n",
    "axSize = int(np.ceil(np.sqrt(length)))\n",
    "fig, axes = plt.subplots(axSize, axSize)\n",
    "\n",
    "print(f'{length} variables x {data.shape[0]} lines')\n"
   ],
   "metadata": {
    "collapsed": false,
    "ExecuteTime": {
     "end_time": "2024-05-22T07:37:47.031563Z",
     "start_time": "2024-05-22T07:37:42.544790Z"
    }
   },
   "id": "cb38a3024e2b3768",
   "execution_count": 148
  },
  {
   "cell_type": "code",
   "outputs": [],
   "source": [
    "numeric_rows = data.select_dtypes(include=['int', 'float']).columns"
   ],
   "metadata": {
    "collapsed": false,
    "ExecuteTime": {
     "end_time": "2024-05-22T07:31:18.141051Z",
     "start_time": "2024-05-22T07:31:18.131436Z"
    }
   },
   "id": "27b11e24f777c2cd",
   "execution_count": 122
  },
  {
   "cell_type": "code",
   "outputs": [
    {
     "data": {
      "text/plain": "Index(['Age'], dtype='object')"
     },
     "execution_count": 123,
     "metadata": {},
     "output_type": "execute_result"
    }
   ],
   "source": [
    "numeric_rows"
   ],
   "metadata": {
    "collapsed": false,
    "ExecuteTime": {
     "end_time": "2024-05-22T07:31:18.679372Z",
     "start_time": "2024-05-22T07:31:18.661373Z"
    }
   },
   "id": "ce3d40d3a1c0250e",
   "execution_count": 123
  },
  {
   "cell_type": "code",
   "outputs": [],
   "source": [],
   "metadata": {
    "collapsed": false
   },
   "id": "688df9f1b11bf30d"
  }
 ],
 "metadata": {
  "kernelspec": {
   "display_name": "Python 3",
   "language": "python",
   "name": "python3"
  },
  "language_info": {
   "codemirror_mode": {
    "name": "ipython",
    "version": 2
   },
   "file_extension": ".py",
   "mimetype": "text/x-python",
   "name": "python",
   "nbconvert_exporter": "python",
   "pygments_lexer": "ipython2",
   "version": "2.7.6"
  }
 },
 "nbformat": 4,
 "nbformat_minor": 5
}
